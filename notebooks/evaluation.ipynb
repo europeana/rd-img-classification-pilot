{
 "cells": [
  {
   "cell_type": "code",
   "execution_count": 2,
   "metadata": {},
   "outputs": [
    {
     "name": "stdout",
     "output_type": "stream",
     "text": [
      "(421, 4)\n"
     ]
    }
   ],
   "source": [
    "import pandas as pd\n",
    "import os\n",
    "\n",
    "#load evaluation dataset\n",
    "eval_df = pd.read_csv('/home/jcejudo/projects/image_classification/data/single_label/eval_dataset.csv')\n",
    "eval_df = eval_df[['URI', 'ID', 'URL', 'category']]\n",
    "eval_df = eval_df.dropna()\n",
    "print(eval_df.shape)"
   ]
  },
  {
   "cell_type": "code",
   "execution_count": 45,
   "metadata": {},
   "outputs": [
    {
     "name": "stdout",
     "output_type": "stream",
     "text": [
      "46162\n",
      "46162\n"
     ]
    }
   ],
   "source": [
    "#get path and filenames of training data\n",
    "training_data_path = '/home/jcejudo/training_data_3000'\n",
    "fpath_list = []\n",
    "fname_list = []\n",
    "for cat in os.listdir(training_data_path):\n",
    "    cat_path = os.path.join(training_data_path,cat)\n",
    "    fname_list += os.listdir(cat_path)\n",
    "    fpath_list += [os.path.join(cat_path,fname) for fname in os.listdir(cat_path)]\n",
    "\n",
    "print(len(fname_list))\n",
    "print(len(fpath_list))"
   ]
  },
  {
   "cell_type": "code",
   "execution_count": 46,
   "metadata": {},
   "outputs": [],
   "source": [
    "#remove test images from training data\n",
    "for ID in eval_df['ID'].values:\n",
    "    fname = ID.replace('/','[ph]')+'.jpg'\n",
    "    if fname in fname_list:\n",
    "        print(fname)\n",
    "        fpath = fpath_list[fname_list.index(fname)]\n",
    "        if os.path.exists(fpath):\n",
    "            os.remove(fpath)\n",
    "    "
   ]
  },
  {
   "cell_type": "code",
   "execution_count": null,
   "metadata": {},
   "outputs": [],
   "source": [
    "\n",
    "\n"
   ]
  },
  {
   "cell_type": "code",
   "execution_count": null,
   "metadata": {},
   "outputs": [],
   "source": []
  }
 ],
 "metadata": {
  "kernelspec": {
   "display_name": "Python 3",
   "language": "python",
   "name": "python3"
  },
  "language_info": {
   "codemirror_mode": {
    "name": "ipython",
    "version": 3
   },
   "file_extension": ".py",
   "mimetype": "text/x-python",
   "name": "python",
   "nbconvert_exporter": "python",
   "pygments_lexer": "ipython3",
   "version": "3.9.2"
  }
 },
 "nbformat": 4,
 "nbformat_minor": 4
}
