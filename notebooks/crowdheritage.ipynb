{
 "cells": [
  {
   "cell_type": "code",
   "execution_count": 1,
   "id": "bb76e48e",
   "metadata": {},
   "outputs": [],
   "source": [
    "import pandas as pd\n",
    "import numpy as np"
   ]
  },
  {
   "cell_type": "code",
   "execution_count": 2,
   "id": "843d0149",
   "metadata": {},
   "outputs": [
    {
     "data": {
      "text/plain": [
       "0        http://data.europeana.eu/concept/base/29\n",
       "1        http://data.europeana.eu/concept/base/29\n",
       "2        http://data.europeana.eu/concept/base/29\n",
       "3        http://data.europeana.eu/concept/base/29\n",
       "4        http://data.europeana.eu/concept/base/29\n",
       "                           ...                   \n",
       "51496        http://vocab.getty.edu/aat/300036926\n",
       "51497        http://vocab.getty.edu/aat/300036926\n",
       "51498        http://vocab.getty.edu/aat/300036926\n",
       "51499        http://vocab.getty.edu/aat/300036926\n",
       "51500        http://vocab.getty.edu/aat/300036926\n",
       "Name: skos_concept, Length: 51501, dtype: object"
      ]
     },
     "execution_count": 2,
     "metadata": {},
     "output_type": "execute_result"
    }
   ],
   "source": [
    "csv_path = '/home/jcejudo/rd-img-classification-pilot/data/reharvest_3000_open.csv'\n",
    "df = pd.read_csv(csv_path)\n",
    "df.pop('skos_concept')"
   ]
  },
  {
   "cell_type": "code",
   "execution_count": 3,
   "id": "05da3149",
   "metadata": {},
   "outputs": [
    {
     "data": {
      "text/plain": [
       "(51501, 4)"
      ]
     },
     "execution_count": 3,
     "metadata": {},
     "output_type": "execute_result"
    }
   ],
   "source": [
    "df.shape"
   ]
  },
  {
   "cell_type": "code",
   "execution_count": 4,
   "id": "d883ec21",
   "metadata": {},
   "outputs": [],
   "source": [
    "n_sample = 500\n",
    "sample_df = pd.DataFrame()\n",
    "for category in df.category.unique():\n",
    "    subset = df.loc[df['category'] == category]\n",
    "    size_subset = subset.shape[0]\n",
    "    idx = np.random.randint(size_subset,size = n_sample)\n",
    "    subset = subset.iloc[idx]\n",
    "    sample_df = pd.concat((sample_df,subset))\n"
   ]
  },
  {
   "cell_type": "code",
   "execution_count": 5,
   "id": "842b55e0",
   "metadata": {},
   "outputs": [
    {
     "data": {
      "text/plain": [
       "(10000, 4)"
      ]
     },
     "execution_count": 5,
     "metadata": {},
     "output_type": "execute_result"
    }
   ],
   "source": [
    "sample_df.shape"
   ]
  },
  {
   "cell_type": "code",
   "execution_count": 6,
   "id": "a9f0f385",
   "metadata": {},
   "outputs": [
    {
     "data": {
      "text/plain": [
       "591      building\n",
       "2208     building\n",
       "1599     building\n",
       "1899     building\n",
       "1786     building\n",
       "           ...   \n",
       "48832    weaponry\n",
       "50453    weaponry\n",
       "49186    weaponry\n",
       "49744    weaponry\n",
       "50613    weaponry\n",
       "Name: category, Length: 10000, dtype: object"
      ]
     },
     "execution_count": 6,
     "metadata": {},
     "output_type": "execute_result"
    }
   ],
   "source": [
    "sample_df.category"
   ]
  },
  {
   "cell_type": "code",
   "execution_count": 7,
   "id": "4b357ae5",
   "metadata": {},
   "outputs": [
    {
     "data": {
      "text/plain": [
       "array(['building', 'ceramics', 'drawing', 'furniture', 'jewellery', 'map',\n",
       "       'painting', 'photograph', 'postcard', 'sculpture', 'specimen',\n",
       "       'tapestry', 'textile', 'toy', 'woodwork', 'archaeological_site',\n",
       "       'clothing', 'costume_accessories', 'inscription', 'weaponry'],\n",
       "      dtype=object)"
      ]
     },
     "execution_count": 7,
     "metadata": {},
     "output_type": "execute_result"
    }
   ],
   "source": [
    "sample_df.category.unique()"
   ]
  },
  {
   "cell_type": "code",
   "execution_count": 8,
   "id": "3e8d2457",
   "metadata": {},
   "outputs": [
    {
     "data": {
      "text/plain": [
       "['painting', 'drawing', 'furniture', 'map']"
      ]
     },
     "execution_count": 8,
     "metadata": {},
     "output_type": "execute_result"
    }
   ],
   "source": [
    "['building','archaeological_site','photograph','postcard']\n",
    "\n",
    "['weaponry','woodwork','toy','ceramics']\n",
    "\n",
    "['clothing','costume_accessories','textile','tapestry']\n",
    "\n",
    "['sculpture','inscription','specimen','jewellery']\n",
    "\n",
    "['painting','drawing','furniture','map']\n",
    "\n",
    "\n"
   ]
  },
  {
   "cell_type": "code",
   "execution_count": 9,
   "id": "f6d01bc8",
   "metadata": {},
   "outputs": [],
   "source": [
    "group = ['painting','drawing','furniture','map']"
   ]
  },
  {
   "cell_type": "code",
   "execution_count": 10,
   "id": "1d29f32e",
   "metadata": {},
   "outputs": [
    {
     "data": {
      "text/plain": [
       "591      building\n",
       "2208     building\n",
       "1599     building\n",
       "1899     building\n",
       "1786     building\n",
       "           ...   \n",
       "48832    weaponry\n",
       "50453    weaponry\n",
       "49186    weaponry\n",
       "49744    weaponry\n",
       "50613    weaponry\n",
       "Name: category, Length: 10000, dtype: object"
      ]
     },
     "execution_count": 10,
     "metadata": {},
     "output_type": "execute_result"
    }
   ],
   "source": [
    "sample_df['category']"
   ]
  },
  {
   "cell_type": "code",
   "execution_count": 16,
   "id": "b52e01d4",
   "metadata": {
    "scrolled": true
   },
   "outputs": [
    {
     "name": "stdout",
     "output_type": "stream",
     "text": [
      "(2000, 4)\n",
      "(2000, 4)\n",
      "(2000, 4)\n",
      "(2000, 4)\n",
      "(2000, 4)\n"
     ]
    }
   ],
   "source": [
    "from pathlib import Path\n",
    "saving_dir = '/home/jcejudo/crowdheritage'\n",
    "saving_dir = Path(saving_dir)\n",
    "\n",
    "group_list = [\n",
    "    ['building','archaeological_site','photograph','postcard'],\n",
    "    ['weaponry','woodwork','toy','ceramics'],\n",
    "    ['clothing','costume_accessories','textile','tapestry'],\n",
    "    ['sculpture','inscription','specimen','jewellery'],\n",
    "    ['painting','drawing','furniture','map']\n",
    "]\n",
    "\n",
    "for group in group_list:\n",
    "    sub_df = pd.DataFrame()\n",
    "    for item in group:\n",
    "        subset = sample_df.loc[sample_df['category']  == item]\n",
    "        sub_df = pd.concat((sub_df,subset))\n",
    "    print(sub_df.shape)\n",
    "    fname = '_'.join(group)+'.csv'\n",
    "    sub_df.to_csv(saving_dir.joinpath(fname),index=False)\n",
    "    \n",
    "    \n",
    "\n",
    "\n"
   ]
  },
  {
   "cell_type": "code",
   "execution_count": 17,
   "id": "4361cf94",
   "metadata": {},
   "outputs": [
    {
     "data": {
      "text/plain": [
       "array(['building', 'archaeological_site', 'photograph', 'postcard'],\n",
       "      dtype=object)"
      ]
     },
     "execution_count": 17,
     "metadata": {},
     "output_type": "execute_result"
    }
   ],
   "source": [
    "df = pd.read_csv('/home/jcejudo/crowdheritage/building_archaeological_site_photograph_postcard.csv')\n",
    "df.category.unique()"
   ]
  },
  {
   "cell_type": "code",
   "execution_count": null,
   "id": "bfa2f7a4",
   "metadata": {},
   "outputs": [],
   "source": []
  },
  {
   "cell_type": "code",
   "execution_count": null,
   "id": "fe6e897a",
   "metadata": {},
   "outputs": [],
   "source": []
  },
  {
   "cell_type": "code",
   "execution_count": 48,
   "id": "e70503f8",
   "metadata": {},
   "outputs": [],
   "source": [
    "saving_path = '/home/jcejudo/rd-img-classification-pilot/data/crowdheritage_dataset.csv'\n",
    "sample_df.to_csv(saving_path,index=False)"
   ]
  },
  {
   "cell_type": "code",
   "execution_count": 49,
   "id": "75c61766",
   "metadata": {},
   "outputs": [
    {
     "data": {
      "text/html": [
       "<div>\n",
       "<style scoped>\n",
       "    .dataframe tbody tr th:only-of-type {\n",
       "        vertical-align: middle;\n",
       "    }\n",
       "\n",
       "    .dataframe tbody tr th {\n",
       "        vertical-align: top;\n",
       "    }\n",
       "\n",
       "    .dataframe thead th {\n",
       "        text-align: right;\n",
       "    }\n",
       "</style>\n",
       "<table border=\"1\" class=\"dataframe\">\n",
       "  <thead>\n",
       "    <tr style=\"text-align: right;\">\n",
       "      <th></th>\n",
       "      <th>category</th>\n",
       "      <th>URI</th>\n",
       "      <th>ID</th>\n",
       "      <th>URL</th>\n",
       "    </tr>\n",
       "  </thead>\n",
       "  <tbody>\n",
       "    <tr>\n",
       "      <th>1288</th>\n",
       "      <td>building</td>\n",
       "      <td>http://data.europeana.eu/item/91616/arme_photo...</td>\n",
       "      <td>/91616/arme_photo_AMA0017504</td>\n",
       "      <td>https://mm.dimu.org/image/0231wUTtSJfT?dimensi...</td>\n",
       "    </tr>\n",
       "    <tr>\n",
       "      <th>2591</th>\n",
       "      <td>building</td>\n",
       "      <td>http://data.europeana.eu/item/91672/MM_foto_23...</td>\n",
       "      <td>/91672/MM_foto_2391306</td>\n",
       "      <td>http://carlotta.malmo.se/carlotta-mmus/web/ima...</td>\n",
       "    </tr>\n",
       "    <tr>\n",
       "      <th>373</th>\n",
       "      <td>building</td>\n",
       "      <td>http://data.europeana.eu/item/2048421/item_764...</td>\n",
       "      <td>/2048421/item_764S572XKHF6LS7TWUT3GHJFG2AEM4C4</td>\n",
       "      <td>https://izw-medienarchiv.baw.de/api/v1/objects...</td>\n",
       "    </tr>\n",
       "    <tr>\n",
       "      <th>2928</th>\n",
       "      <td>building</td>\n",
       "      <td>http://data.europeana.eu/item/154/S_JVM_photo_...</td>\n",
       "      <td>/154/S_JVM_photo_JvmKAGC00486</td>\n",
       "      <td>http://mm.dimu.org/image/0231xy7LCUAt?dimensio...</td>\n",
       "    </tr>\n",
       "    <tr>\n",
       "      <th>2170</th>\n",
       "      <td>building</td>\n",
       "      <td>http://data.europeana.eu/item/916121/S_OLM_pho...</td>\n",
       "      <td>/916121/S_OLM_photo_OLM_1946_144</td>\n",
       "      <td>https://mm.dimu.org/image/022wYzhbhj1h?dimensi...</td>\n",
       "    </tr>\n",
       "    <tr>\n",
       "      <th>...</th>\n",
       "      <td>...</td>\n",
       "      <td>...</td>\n",
       "      <td>...</td>\n",
       "      <td>...</td>\n",
       "    </tr>\n",
       "    <tr>\n",
       "      <th>49779</th>\n",
       "      <td>weaponry</td>\n",
       "      <td>http://data.europeana.eu/item/2064105/Museu_Pr...</td>\n",
       "      <td>/2064105/Museu_ProvidedCHO_Livrustkammaren_52609</td>\n",
       "      <td>http://emuseumplus.lsh.se/eMuseumPlus?service=...</td>\n",
       "    </tr>\n",
       "    <tr>\n",
       "      <th>48627</th>\n",
       "      <td>weaponry</td>\n",
       "      <td>http://data.europeana.eu/item/2064105/Museu_Pr...</td>\n",
       "      <td>/2064105/Museu_ProvidedCHO_Livrustkammaren_46722</td>\n",
       "      <td>http://emuseumplus.lsh.se/eMuseumPlus?service=...</td>\n",
       "    </tr>\n",
       "    <tr>\n",
       "      <th>49334</th>\n",
       "      <td>weaponry</td>\n",
       "      <td>http://data.europeana.eu/item/2064105/Museu_Pr...</td>\n",
       "      <td>/2064105/Museu_ProvidedCHO_Skoklosters_slott_3...</td>\n",
       "      <td>ftp://ftp.emuseumplus.lsh.se/web/hires/M_DIG/M...</td>\n",
       "    </tr>\n",
       "    <tr>\n",
       "      <th>49824</th>\n",
       "      <td>weaponry</td>\n",
       "      <td>http://data.europeana.eu/item/2064105/Museu_Pr...</td>\n",
       "      <td>/2064105/Museu_ProvidedCHO_Livrustkammaren_43485</td>\n",
       "      <td>http://emuseumplus.lsh.se/eMuseumPlus?service=...</td>\n",
       "    </tr>\n",
       "    <tr>\n",
       "      <th>49535</th>\n",
       "      <td>weaponry</td>\n",
       "      <td>http://data.europeana.eu/item/2064105/Museu_Pr...</td>\n",
       "      <td>/2064105/Museu_ProvidedCHO_Livrustkammaren_40368</td>\n",
       "      <td>http://emuseumplus.lsh.se/eMuseumPlus?service=...</td>\n",
       "    </tr>\n",
       "  </tbody>\n",
       "</table>\n",
       "<p>2000 rows × 4 columns</p>\n",
       "</div>"
      ],
      "text/plain": [
       "       category                                                URI  \\\n",
       "1288   building  http://data.europeana.eu/item/91616/arme_photo...   \n",
       "2591   building  http://data.europeana.eu/item/91672/MM_foto_23...   \n",
       "373    building  http://data.europeana.eu/item/2048421/item_764...   \n",
       "2928   building  http://data.europeana.eu/item/154/S_JVM_photo_...   \n",
       "2170   building  http://data.europeana.eu/item/916121/S_OLM_pho...   \n",
       "...         ...                                                ...   \n",
       "49779  weaponry  http://data.europeana.eu/item/2064105/Museu_Pr...   \n",
       "48627  weaponry  http://data.europeana.eu/item/2064105/Museu_Pr...   \n",
       "49334  weaponry  http://data.europeana.eu/item/2064105/Museu_Pr...   \n",
       "49824  weaponry  http://data.europeana.eu/item/2064105/Museu_Pr...   \n",
       "49535  weaponry  http://data.europeana.eu/item/2064105/Museu_Pr...   \n",
       "\n",
       "                                                      ID  \\\n",
       "1288                        /91616/arme_photo_AMA0017504   \n",
       "2591                              /91672/MM_foto_2391306   \n",
       "373       /2048421/item_764S572XKHF6LS7TWUT3GHJFG2AEM4C4   \n",
       "2928                       /154/S_JVM_photo_JvmKAGC00486   \n",
       "2170                    /916121/S_OLM_photo_OLM_1946_144   \n",
       "...                                                  ...   \n",
       "49779   /2064105/Museu_ProvidedCHO_Livrustkammaren_52609   \n",
       "48627   /2064105/Museu_ProvidedCHO_Livrustkammaren_46722   \n",
       "49334  /2064105/Museu_ProvidedCHO_Skoklosters_slott_3...   \n",
       "49824   /2064105/Museu_ProvidedCHO_Livrustkammaren_43485   \n",
       "49535   /2064105/Museu_ProvidedCHO_Livrustkammaren_40368   \n",
       "\n",
       "                                                     URL  \n",
       "1288   https://mm.dimu.org/image/0231wUTtSJfT?dimensi...  \n",
       "2591   http://carlotta.malmo.se/carlotta-mmus/web/ima...  \n",
       "373    https://izw-medienarchiv.baw.de/api/v1/objects...  \n",
       "2928   http://mm.dimu.org/image/0231xy7LCUAt?dimensio...  \n",
       "2170   https://mm.dimu.org/image/022wYzhbhj1h?dimensi...  \n",
       "...                                                  ...  \n",
       "49779  http://emuseumplus.lsh.se/eMuseumPlus?service=...  \n",
       "48627  http://emuseumplus.lsh.se/eMuseumPlus?service=...  \n",
       "49334  ftp://ftp.emuseumplus.lsh.se/web/hires/M_DIG/M...  \n",
       "49824  http://emuseumplus.lsh.se/eMuseumPlus?service=...  \n",
       "49535  http://emuseumplus.lsh.se/eMuseumPlus?service=...  \n",
       "\n",
       "[2000 rows x 4 columns]"
      ]
     },
     "execution_count": 49,
     "metadata": {},
     "output_type": "execute_result"
    }
   ],
   "source": [
    "sample_df"
   ]
  },
  {
   "cell_type": "code",
   "execution_count": null,
   "id": "aadc860c",
   "metadata": {},
   "outputs": [],
   "source": []
  }
 ],
 "metadata": {
  "kernelspec": {
   "display_name": "Python 3",
   "language": "python",
   "name": "python3"
  },
  "language_info": {
   "codemirror_mode": {
    "name": "ipython",
    "version": 3
   },
   "file_extension": ".py",
   "mimetype": "text/x-python",
   "name": "python",
   "nbconvert_exporter": "python",
   "pygments_lexer": "ipython3",
   "version": "3.9.2"
  }
 },
 "nbformat": 4,
 "nbformat_minor": 5
}
